{
 "cells": [
  {
   "cell_type": "code",
   "execution_count": 1,
   "metadata": {},
   "outputs": [
    {
     "data": {
      "text/plain": [
       "True"
      ]
     },
     "execution_count": 1,
     "metadata": {},
     "output_type": "execute_result"
    }
   ],
   "source": [
    "import io\n",
    "import sys\n",
    "\n",
    "from dotenv import load_dotenv\n",
    "from rich.pretty import pprint\n",
    "\n",
    "sys.path.insert(0,\"../\")\n",
    "\n",
    "from doca.utils import document\n",
    "from doca.utils import event\n",
    "from doca.utils import storage\n",
    "\n",
    "load_dotenv(\"../secrets/.env\", override=True)"
   ]
  },
  {
   "cell_type": "code",
   "execution_count": 2,
   "metadata": {},
   "outputs": [],
   "source": [
    "filename = \"../README.pdf\"\n",
    "with open(filename, \"rb\") as f:\n",
    "    content = f.read()\n",
    "\n",
    "docs = {}\n",
    "evs = {}\n",
    "for provider in [\"aws_s3\", \"gcp_cloud_storage\", \"azure_storage_blob\", \"local_file_system\"]:\n",
    "    doc = document.new_document(provider, \"DOCA00012\", \"README.pdf\", document_content=content)\n",
    "    doc.processor_name = \"ingestor\"\n",
    "    docs[provider] = doc\n",
    "    evs[provider] = event.new_event(event.EventType.DOCUMENT_INGESTED, [doc])\n"
   ]
  },
  {
   "cell_type": "code",
   "execution_count": null,
   "metadata": {},
   "outputs": [],
   "source": [
    "print(evs[\"aws_s3\"].json(indent=4))"
   ]
  },
  {
   "cell_type": "code",
   "execution_count": 3,
   "metadata": {},
   "outputs": [
    {
     "name": "stderr",
     "output_type": "stream",
     "text": [
      "[2023-01-31 23:39:04,957] [31883] [INFO] [AWSSimpleStorageService]: Bucket `aurora-mercedez-dealership` created...\n",
      "[2023-01-31 23:39:04,958] [31883] [INFO] [AWSSimpleStorageService]: AWS S3 storage layer initialized...\n"
     ]
    }
   ],
   "source": [
    "s3 = storage.AWSSimpleStorageService()"
   ]
  },
  {
   "cell_type": "code",
   "execution_count": 4,
   "metadata": {},
   "outputs": [
    {
     "name": "stderr",
     "output_type": "stream",
     "text": [
      "[2023-01-31 23:39:09,255] [31883] [INFO] [GCPCloudStorage]: Bucket `aurora-mercedez-dealership` created...\n",
      "[2023-01-31 23:39:09,257] [31883] [INFO] [GCPCloudStorage]: Cloud Storage initialized...\n"
     ]
    }
   ],
   "source": [
    "cloud_storage = storage.GCPCloudStorage()"
   ]
  },
  {
   "cell_type": "code",
   "execution_count": 6,
   "metadata": {},
   "outputs": [
    {
     "name": "stderr",
     "output_type": "stream",
     "text": [
      "[2023-01-31 23:39:40,551] [31883] [INFO] [AzureStorageBlob]: Bucket `aurora-mercedez-dealership` created...\n",
      "[2023-01-31 23:39:40,552] [31883] [INFO] [AzureStorageBlob]: Storage Blob initialized...\n"
     ]
    }
   ],
   "source": [
    "storage_blob = storage.AzureStorageBlob()"
   ]
  },
  {
   "cell_type": "code",
   "execution_count": 7,
   "metadata": {},
   "outputs": [
    {
     "name": "stderr",
     "output_type": "stream",
     "text": [
      "[2023-01-31 23:40:07,278] [31883] [INFO] [LocalFileSystem]: Bucket `aurora-mercedez-dealership` created...\n",
      "[2023-01-31 23:40:07,279] [31883] [INFO] [LocalFileSystem]: File system store initialized...\n"
     ]
    }
   ],
   "source": [
    "local_file_system = storage.LocalFileSystem()"
   ]
  },
  {
   "cell_type": "code",
   "execution_count": 10,
   "metadata": {},
   "outputs": [],
   "source": [
    "stores = dict(\n",
    "    aws_s3 = s3,\n",
    "    gcp_cloud_storage = cloud_storage,\n",
    "    azure_storage_blob = storage_blob,\n",
    "    local_file_system = local_file_system\n",
    ")"
   ]
  },
  {
   "cell_type": "code",
   "execution_count": 11,
   "metadata": {},
   "outputs": [],
   "source": [
    "for provider in [\"aws_s3\", \"gcp_cloud_storage\", \"azure_storage_blob\", \"local_file_system\"]:\n",
    "    doc = docs[provider]\n",
    "    store = stores[provider]\n",
    "    doc.save(store)"
   ]
  },
  {
   "cell_type": "code",
   "execution_count": null,
   "metadata": {},
   "outputs": [],
   "source": [
    "print(id(doc))\n",
    "print(doc)"
   ]
  }
 ],
 "metadata": {
  "kernelspec": {
   "display_name": "Python 3 (ipykernel)",
   "language": "python",
   "name": "python3"
  },
  "language_info": {
   "codemirror_mode": {
    "name": "ipython",
    "version": 3
   },
   "file_extension": ".py",
   "mimetype": "text/x-python",
   "name": "python",
   "nbconvert_exporter": "python",
   "pygments_lexer": "ipython3",
   "version": "3.11.1"
  },
  "vscode": {
   "interpreter": {
    "hash": "0471257856475b0de63a4b8ebda83407f8d3faac4a018868a696139436065238"
   }
  }
 },
 "nbformat": 4,
 "nbformat_minor": 4
}

{
 "cells": [
  {
   "cell_type": "code",
   "execution_count": 1,
   "metadata": {},
   "outputs": [
    {
     "data": {
      "text/plain": [
       "True"
      ]
     },
     "execution_count": 1,
     "metadata": {},
     "output_type": "execute_result"
    }
   ],
   "source": [
    "import io\n",
    "import sys\n",
    "\n",
    "from dotenv import load_dotenv\n",
    "from rich.pretty import pprint\n",
    "\n",
    "sys.path.insert(0,\"../\")\n",
    "\n",
    "from doca.utils import document\n",
    "from doca.utils import event\n",
    "from doca.utils import storage\n",
    "\n",
    "load_dotenv(\"../secrets/.env\", override=True)"
   ]
  },
  {
   "cell_type": "code",
   "execution_count": 2,
   "metadata": {},
   "outputs": [],
   "source": [
    "# filename = \"../README.pdf\"\n",
    "# with open(filename, \"rb\") as f:\n",
    "#     contents = f.read()\n",
    "\n",
    "\n",
    "doc = document.new_document(\"aws_s3\", \"DOCA00012\", \"README.pdf\") #, document_content=contents)\n",
    "doc.processor_name = \"ingestor\"\n",
    "ev = event.new_event(event.EventType.DOCUMENT_INGESTED, [doc])\n"
   ]
  },
  {
   "cell_type": "code",
   "execution_count": 3,
   "metadata": {},
   "outputs": [
    {
     "name": "stderr",
     "output_type": "stream",
     "text": [
      "[2023-01-22 19:29:06,881] [6969] [WARNING] [S3StorageLayer]: Bucket `doca-project-test` exists...\n",
      "[2023-01-22 19:29:06,883] [6969] [INFO] [S3StorageLayer]: AWS S3 storage layer initialized...\n"
     ]
    }
   ],
   "source": [
    "s3 = storage.aws_s3.S3StorageLayer()"
   ]
  },
  {
   "cell_type": "code",
   "execution_count": 4,
   "metadata": {},
   "outputs": [
    {
     "name": "stdout",
     "output_type": "stream",
     "text": [
      "4592781520\n",
      "storage_provider=<StorageProvider.aws_s3: 'aws_s3'> storage_bucket='doca-project-test' processor_name='ingestor' document_owner='DOCA00012' document_name='README' document_format=<DocumentFormat.pdf: 'pdf'> document_buffer=None\n"
     ]
    }
   ],
   "source": [
    "print(id(doc))\n",
    "print(doc)"
   ]
  },
  {
   "cell_type": "code",
   "execution_count": 5,
   "metadata": {},
   "outputs": [],
   "source": [
    "s3.read(doc)"
   ]
  },
  {
   "cell_type": "code",
   "execution_count": 6,
   "metadata": {},
   "outputs": [
    {
     "name": "stdout",
     "output_type": "stream",
     "text": [
      "4592781520\n",
      "storage_provider=<StorageProvider.aws_s3: 'aws_s3'> storage_bucket='doca-project-test' processor_name='ingestor' document_owner='DOCA00012' document_name='README' document_format=<DocumentFormat.pdf: 'pdf'> document_buffer=<_io.BytesIO object at 0x1124bb330>\n"
     ]
    }
   ],
   "source": [
    "print(id(doc))\n",
    "print(doc)"
   ]
  }
 ],
 "metadata": {
  "kernelspec": {
   "display_name": "Python 3 (ipykernel)",
   "language": "python",
   "name": "python3"
  },
  "language_info": {
   "codemirror_mode": {
    "name": "ipython",
    "version": 3
   },
   "file_extension": ".py",
   "mimetype": "text/x-python",
   "name": "python",
   "nbconvert_exporter": "python",
   "pygments_lexer": "ipython3",
   "version": "3.11.1"
  },
  "vscode": {
   "interpreter": {
    "hash": "0471257856475b0de63a4b8ebda83407f8d3faac4a018868a696139436065238"
   }
  }
 },
 "nbformat": 4,
 "nbformat_minor": 4
}

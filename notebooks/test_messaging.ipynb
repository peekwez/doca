{
 "cells": [
  {
   "cell_type": "code",
   "execution_count": 1,
   "metadata": {},
   "outputs": [
    {
     "data": {
      "text/plain": [
       "True"
      ]
     },
     "execution_count": 1,
     "metadata": {},
     "output_type": "execute_result"
    }
   ],
   "source": [
    "import sys\n",
    "\n",
    "from dotenv import load_dotenv\n",
    "from rich.pretty import pprint\n",
    "\n",
    "sys.path.insert(0,\"../\")\n",
    "\n",
    "from doca.utils import event\n",
    "from doca.utils import factory\n",
    "from doca.utils import messaging\n",
    "\n",
    "load_dotenv(\"../secrets/.env\", override=True)"
   ]
  },
  {
   "cell_type": "code",
   "execution_count": 2,
   "metadata": {},
   "outputs": [
    {
     "name": "stderr",
     "output_type": "stream",
     "text": [
      "[2023-02-11 17:43:37,384] [91251] [WARNING] [AWSSimpleQueueService]: Queue `aurora_from` already exists ...\n",
      "[2023-02-11 17:43:37,401] [91251] [INFO] [AWSSimpleQueueService]: SQS queue client initialized...\n",
      "[2023-02-11 17:43:37,420] [91251] [WARNING] [AWSSimpleQueueService]: Queue `aurora_to` already exists ...\n",
      "[2023-02-11 17:43:37,438] [91251] [INFO] [AWSSimpleQueueService]: SQS queue client initialized...\n",
      "[2023-02-11 17:43:40,559] [91251] [WARNING] [GoogleCloudPubSub]: Topic `aurora_from` already exists ...\n",
      "[2023-02-11 17:43:40,561] [91251] [INFO] [GoogleCloudPubSub]: Cloud PubSub client initialized...\n",
      "[2023-02-11 17:43:41,064] [91251] [INFO] [GoogleCloudPubSub]: Subscription `aurora_from` created ...\n",
      "[2023-02-11 17:43:41,066] [91251] [INFO] [GoogleCloudPubSub]: Cloud PubSub client initialized...\n",
      "[2023-02-11 17:43:42,567] [91251] [WARNING] [GoogleCloudPubSub]: Topic `aurora_to` already exists ...\n",
      "[2023-02-11 17:43:42,568] [91251] [INFO] [GoogleCloudPubSub]: Cloud PubSub client initialized...\n",
      "[2023-02-11 17:43:42,664] [91251] [WARNING] [AzureStorageQueue]: Queue `aurora-from` already exists ...\n",
      "[2023-02-11 17:43:42,665] [91251] [INFO] [AzureStorageQueue]: Storage queue client initialized...\n",
      "[2023-02-11 17:43:42,720] [91251] [WARNING] [AzureStorageQueue]: Queue `aurora-to` already exists ...\n",
      "[2023-02-11 17:43:42,721] [91251] [INFO] [AzureStorageQueue]: Storage queue client initialized...\n"
     ]
    }
   ],
   "source": [
    "messenger = {}\n",
    "providers = []\n",
    "events = {}\n",
    "\n",
    "doc = factory.new_document(\"aws_s3\", \"DOCA00012\", \"README.pdf\")\n",
    "doc.processor_name = \"ingestor\"\n",
    "\n",
    "for cls in messaging.BaseMessageLayer.__subclasses__():\n",
    "    providers.append(cls.name)\n",
    "    messenger[cls.name] = cls(\"aurora_from\", \"aurora_to\")\n",
    "    events[cls.name] = factory.new_event(event.EventType.DOCUMENT_INGESTED, [doc])"
   ]
  },
  {
   "cell_type": "code",
   "execution_count": null,
   "metadata": {},
   "outputs": [],
   "source": [
    "for name in messenger:\n",
    "    client = messenger[name]\n",
    "    ev = events[name]\n",
    "    ev.publish(client)"
   ]
  },
  {
   "cell_type": "code",
   "execution_count": null,
   "metadata": {},
   "outputs": [],
   "source": []
  }
 ],
 "metadata": {
  "kernelspec": {
   "display_name": "Python 3 (ipykernel)",
   "language": "python",
   "name": "python3"
  },
  "language_info": {
   "codemirror_mode": {
    "name": "ipython",
    "version": 3
   },
   "file_extension": ".py",
   "mimetype": "text/x-python",
   "name": "python",
   "nbconvert_exporter": "python",
   "pygments_lexer": "ipython3",
   "version": "3.11.1"
  },
  "vscode": {
   "interpreter": {
    "hash": "0471257856475b0de63a4b8ebda83407f8d3faac4a018868a696139436065238"
   }
  }
 },
 "nbformat": 4,
 "nbformat_minor": 4
}

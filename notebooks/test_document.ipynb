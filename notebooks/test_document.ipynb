{
 "cells": [
  {
   "cell_type": "code",
   "execution_count": 1,
   "metadata": {},
   "outputs": [],
   "source": [
    "import io\n",
    "import sys\n",
    "\n",
    "from dotenv import load_dotenv\n",
    "from rich.pretty import pprint\n",
    "\n",
    "sys.path.insert(0,\"../\")\n",
    "\n",
    "from doca.utils import document\n",
    "from doca.utils import event"
   ]
  },
  {
   "cell_type": "code",
   "execution_count": 2,
   "metadata": {},
   "outputs": [],
   "source": [
    "\n",
    "param=\"\"\"\n",
    "PROJECT_NAME='aurora-volva-finance'\n",
    "PROCESSOR_NAME='document-analysis'\n",
    "\"\"\"\n",
    "env = io.StringIO(param)\n",
    "load_dotenv(stream=env, override=True)\n",
    "filename = \"../README.pdf\"\n",
    "with open(filename, \"rb\") as f:\n",
    "    contents = f.read()\n",
    "\n",
    "\n",
    "d = document.new_document(\"aws_s3\", \"DOCA00012\", \"README.pdf\", document_content=contents)\n",
    "e = event.new_event(event.EventType.DOCUMENT_INGESTED, [d])\n"
   ]
  },
  {
   "cell_type": "code",
   "execution_count": 3,
   "metadata": {},
   "outputs": [
    {
     "name": "stdout",
     "output_type": "stream",
     "text": [
      "{\n",
      "  \"id\": \"1aa1d5342ec847a2b0c3aecd15b6a414\",\n",
      "  \"event\": \"document-ingested\",\n",
      "  \"payload\": [\n",
      "    {\n",
      "      \"storage_provider\": \"aws_s3\",\n",
      "      \"storage_bucket\": \"aurora-volva-finance\",\n",
      "      \"processor_name\": \"document-analysis\",\n",
      "      \"document_owner\": \"DOCA00012\",\n",
      "      \"document_name\": \"README\",\n",
      "      \"document_format\": \"pdf\"\n",
      "    }\n",
      "  ],\n",
      "  \"timestamp_ns\": 1674348674088144000\n",
      "}\n"
     ]
    }
   ],
   "source": [
    "print(e.json(indent=2))"
   ]
  },
  {
   "cell_type": "code",
   "execution_count": null,
   "metadata": {},
   "outputs": [],
   "source": []
  }
 ],
 "metadata": {
  "kernelspec": {
   "display_name": "Python 3 (ipykernel)",
   "language": "python",
   "name": "python3"
  },
  "language_info": {
   "codemirror_mode": {
    "name": "ipython",
    "version": 3
   },
   "file_extension": ".py",
   "mimetype": "text/x-python",
   "name": "python",
   "nbconvert_exporter": "python",
   "pygments_lexer": "ipython3",
   "version": "3.11.1"
  },
  "vscode": {
   "interpreter": {
    "hash": "0471257856475b0de63a4b8ebda83407f8d3faac4a018868a696139436065238"
   }
  }
 },
 "nbformat": 4,
 "nbformat_minor": 4
}

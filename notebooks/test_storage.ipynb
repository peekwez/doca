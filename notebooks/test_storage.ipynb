{
 "cells": [
  {
   "cell_type": "code",
   "execution_count": 1,
   "metadata": {},
   "outputs": [
    {
     "data": {
      "text/plain": [
       "True"
      ]
     },
     "execution_count": 1,
     "metadata": {},
     "output_type": "execute_result"
    }
   ],
   "source": [
    "import sys\n",
    "\n",
    "from dotenv import load_dotenv\n",
    "from rich.pretty import pprint\n",
    "\n",
    "sys.path.insert(0,\"../\")\n",
    "\n",
    "from doca.utils import storage\n",
    "from doca.utils import factory\n",
    "\n",
    "load_dotenv(\"../secrets/.env\", override=True)"
   ]
  },
  {
   "cell_type": "code",
   "execution_count": 2,
   "metadata": {},
   "outputs": [],
   "source": [
    "filename = \"../README.pdf\"\n",
    "with open(filename, \"rb\") as f:\n",
    "    content = f.read()"
   ]
  },
  {
   "cell_type": "code",
   "execution_count": 5,
   "metadata": {},
   "outputs": [
    {
     "name": "stderr",
     "output_type": "stream",
     "text": [
      "[2023-01-31 23:56:10,887] [35335] [WARNING] [AWSSimpleStorageService]: Bucket `aurora-mercedez-dealership` exists...\n",
      "[2023-01-31 23:56:10,889] [35335] [INFO] [AWSSimpleStorageService]: AWS S3 storage layer initialized...\n",
      "[2023-01-31 23:56:11,611] [35335] [WARNING] [GCPCloudStorage]: Bucket `aurora-mercedez-dealership` already exists...\n",
      "[2023-01-31 23:56:11,613] [35335] [INFO] [GCPCloudStorage]: Cloud Storage initialized...\n",
      "[2023-01-31 23:56:11,771] [35335] [WARNING] [AzureStorageBlob]: Bucket `aurora-mercedez-dealership` already exists...\n",
      "[2023-01-31 23:56:11,772] [35335] [INFO] [AzureStorageBlob]: Storage Blob initialized...\n",
      "[2023-01-31 23:56:11,774] [35335] [WARNING] [LocalFileSystem]: Bucket `aurora-mercedez-dealership` already exists...\n",
      "[2023-01-31 23:56:11,775] [35335] [INFO] [LocalFileSystem]: File system store initialized...\n"
     ]
    }
   ],
   "source": [
    "stores = {}\n",
    "providers = []\n",
    "for cls in storage.BaseStorageLayer.__subclasses__():\n",
    "    stores[cls.name] = cls()\n",
    "    providers.append(cls.name)"
   ]
  },
  {
   "cell_type": "code",
   "execution_count": 7,
   "metadata": {},
   "outputs": [],
   "source": [
    "for provider in providers:\n",
    "    doc = factory.new_document(\n",
    "        provider, \"DOCA00012\", \n",
    "        \"README.pdf\", document_content=content\n",
    "    )\n",
    "    doc.processor_name = \"ingestor\"\n",
    "    \n",
    "    store = stores[provider]\n",
    "    doc.save_to_store(store)"
   ]
  },
  {
   "cell_type": "code",
   "execution_count": 8,
   "metadata": {},
   "outputs": [],
   "source": [
    "for provider in providers:\n",
    "    doc = factory.new_document(\n",
    "        provider, \"DOCA00012\", \"README.pdf\"\n",
    "    )\n",
    "    doc.processor_name = \"ingestor\"\n",
    "    \n",
    "    store = stores[provider]\n",
    "    doc.load_from_store(store)\n",
    "    \n",
    "    assert doc.content == content"
   ]
  }
 ],
 "metadata": {
  "kernelspec": {
   "display_name": "Python 3 (ipykernel)",
   "language": "python",
   "name": "python3"
  },
  "language_info": {
   "codemirror_mode": {
    "name": "ipython",
    "version": 3
   },
   "file_extension": ".py",
   "mimetype": "text/x-python",
   "name": "python",
   "nbconvert_exporter": "python",
   "pygments_lexer": "ipython3",
   "version": "3.11.1"
  },
  "vscode": {
   "interpreter": {
    "hash": "0471257856475b0de63a4b8ebda83407f8d3faac4a018868a696139436065238"
   }
  }
 },
 "nbformat": 4,
 "nbformat_minor": 4
}
